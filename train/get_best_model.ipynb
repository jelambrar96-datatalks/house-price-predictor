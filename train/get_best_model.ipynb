{
 "cells": [
  {
   "cell_type": "code",
   "execution_count": 35,
   "id": "bec2fae3-ed52-4974-893d-cbc0559af043",
   "metadata": {},
   "outputs": [],
   "source": [
    "import os\n",
    "\n",
    "import numpy as np\n",
    "import pandas as pd"
   ]
  },
  {
   "cell_type": "code",
   "execution_count": 36,
   "id": "cb51d4ad-83d1-4511-ab31-4f08e9d18f08",
   "metadata": {},
   "outputs": [
    {
     "name": "stdout",
     "output_type": "stream",
     "text": [
      "MINIO_ACCESS_KEY test_menio_access_key\n",
      "MINIO_SECRET_KEY test_minio_secret_key\n",
      "MLFLOW_TRACKING_URI http://mlflow:5000\n",
      "MLFLOW_S3_ENDPOINT_URL http://minio:9000\n",
      "MLFLOW_S3_IGNORE_TLS true\n",
      "MLFLOW_BUCKET_NAME mlflow-artifacts\n",
      "MLFLOW_SERVER http://mlflow:5000\n"
     ]
    }
   ],
   "source": [
    "AWS_ACCESS_KEY = os.getenv(\"AWS_ACCESS_KEY\", None); \n",
    "AWS_SECRET_KEY = os.getenv(\"AWS_SECRET_KEY\", None); \n",
    "\n",
    "MINIO_ACCESS_KEY = os.getenv(\"MINIO_ACCESS_KEY\", None); \n",
    "MINIO_SECRET_KEY = os.getenv(\"MINIO_SECRET_KEY\", None); \n",
    "MLFLOW_TRACKING_URI = os.getenv(\"MLFLOW_TRACKING_URI\", None); \n",
    "MLFLOW_S3_ENDPOINT_URL = os.getenv(\"MLFLOW_S3_ENDPOINT_URL\", None); \n",
    "MLFLOW_S3_IGNORE_TLS = os.getenv(\"MLFLOW_S3_IGNORE_TLS\", None); \n",
    "MLFLOW_BUCKET_NAME = os.getenv(\"MLFLOW_BUCKET_NAME\", None); \n",
    "MLFLOW_SERVER = os.getenv(\"MLFLOW_SERVER\", None);\n",
    "MLFLOW_EXPERIMENT_NAME = os.getenv(\"MLFLOW_EXPERIMENT_NAME\", \"mlzoomcamp\");\n",
    "\n",
    "\n",
    "print(\"MINIO_ACCESS_KEY\", MINIO_ACCESS_KEY)\n",
    "print(\"MINIO_SECRET_KEY\", MINIO_SECRET_KEY)\n",
    "print(\"MLFLOW_TRACKING_URI\", MLFLOW_TRACKING_URI)\n",
    "print(\"MLFLOW_S3_ENDPOINT_URL\", MLFLOW_S3_ENDPOINT_URL)\n",
    "print(\"MLFLOW_S3_IGNORE_TLS\", MLFLOW_S3_IGNORE_TLS)\n",
    "print(\"MLFLOW_BUCKET_NAME\", MLFLOW_BUCKET_NAME)\n",
    "print(\"MLFLOW_SERVER\", MLFLOW_SERVER)"
   ]
  },
  {
   "cell_type": "code",
   "execution_count": 37,
   "id": "5d6cee3e-164d-4fb3-8ab7-73334950f342",
   "metadata": {},
   "outputs": [],
   "source": [
    "import uuid\n",
    "from datetime import datetime\n",
    "\n",
    "import mlflow\n",
    "import mlflow.sklearn\n",
    "from mlflow.models import infer_signature\n"
   ]
  },
  {
   "cell_type": "code",
   "execution_count": 38,
   "id": "00c0f2f2-76d9-4c54-9d23-b219dc519fab",
   "metadata": {},
   "outputs": [
    {
     "data": {
      "text/plain": [
       "<Experiment: artifact_location='s3://mlflow-artifacts/experiments/', creation_time=1737476847625, experiment_id='141662139641609146', last_update_time=1737476847625, lifecycle_stage='active', name='mlzoomcamp', tags={}>"
      ]
     },
     "execution_count": 38,
     "metadata": {},
     "output_type": "execute_result"
    }
   ],
   "source": [
    "# Load the MLflow experiment\n",
    "mlflow.set_tracking_uri(MLFLOW_SERVER)\n",
    "\n",
    "experiment = mlflow.search_experiments(filter_string=f\"name='{MLFLOW_EXPERIMENT_NAME}'\")[0]\n",
    "mlflow.set_experiment(MLFLOW_EXPERIMENT_NAME)"
   ]
  },
  {
   "cell_type": "code",
   "execution_count": 39,
   "id": "e2e7805c-0fad-4610-8253-6939d43208a6",
   "metadata": {},
   "outputs": [],
   "source": [
    "# best_run = mlflow.search_runs(experiment.experiment_id, filter_string=\"metrics.rmse=min(metrics.rmse)\")\n",
    "\n",
    "runs_df = mlflow.search_runs(experiment_ids=[experiment.experiment_id])\n",
    "best_run = runs_df.sort_values(by=\"metrics.rmse\", ascending=True).iloc[0]"
   ]
  },
  {
   "cell_type": "code",
   "execution_count": 40,
   "id": "ee9f3e4e-10a5-4f6a-944a-762b2e6d0453",
   "metadata": {},
   "outputs": [
    {
     "data": {
      "text/plain": [
       "run_id                                                                d3eac55f4ee341988b878370d21f735a\n",
       "experiment_id                                                                       141662139641609146\n",
       "status                                                                                        FINISHED\n",
       "artifact_uri                                         s3://mlflow-artifacts/experiments/d3eac55f4ee3...\n",
       "start_time                                                            2025-01-21 16:39:18.829000+00:00\n",
       "end_time                                                              2025-01-21 16:39:25.433000+00:00\n",
       "metrics.neg_root_mean_squared_error                                                          -0.271748\n",
       "metrics.rmse                                                                                  0.277724\n",
       "params.mlp_regressor__power_t                                                                     None\n",
       "params.mlp_regressor__activation                                                                  None\n",
       "params.mlp_regressor__max_iter                                                                    None\n",
       "params.mlp_regressor__hidden_layer_sizes                                                          None\n",
       "params.dict_vectorizer__sparse                                                                   False\n",
       "params.mlp_regressor__batch_size                                                                  None\n",
       "params.mlp_regressor__solver                                                                      None\n",
       "params.mlp_regressor__validation_fraction                                                         None\n",
       "params.mlp_regressor__early_stopping                                                              None\n",
       "params.mlp_regressor__learning_rate_init                                                          None\n",
       "params.mlp_regressor__learning_rate                                                               None\n",
       "params.gradientboost_regressor__n_estimators                                                      None\n",
       "params.gradientboost_regressor__subsample                                                         None\n",
       "params.gradientboost_regressor__loss                                                              None\n",
       "params.gradientboost_regressor__learning_rate                                                     None\n",
       "params.gradientboost_regressor__alpha                                                             None\n",
       "params.gradientboost_regressor__max_features                                                      None\n",
       "params.gradientboost_regressor__max_depth                                                         None\n",
       "params.gradientboost_regressor__random_state                                                      None\n",
       "params.gradientboost_regressor__min_samples_leaf                                                  None\n",
       "params.gradientboost_regressor__min_samples_split                                                 None\n",
       "params.adaboost_regressor__random_state                                                             42\n",
       "params.adaboost_regressor__estimator                                           RandomForestRegressor()\n",
       "params.adaboost_regressor__n_estimators                                                            100\n",
       "params.adaboost_regressor__learning_rate                                                           0.1\n",
       "params.adaboost_regressor__loss                                                                 square\n",
       "params.random_forest_regressor__oob_score                                                         None\n",
       "params.random_forest_regressor__criterion                                                         None\n",
       "params.random_forest_regressor__n_estimators                                                      None\n",
       "params.random_forest_regressor__random_state                                                      None\n",
       "params.random_forest_regressor__max_depth                                                         None\n",
       "params.random_forest_regressor__min_samples_split                                                 None\n",
       "params.random_forest_regressor__max_features                                                      None\n",
       "params.random_forest_regressor__min_samples_leaf                                                  None\n",
       "params.random_forest_regressor__ccp_alpha                                                         None\n",
       "params.random_forest_regressor__bootstrap                                                         None\n",
       "params.decision_tree_regressor__max_depth                                                         None\n",
       "params.decision_tree_regressor__max_features                                                      None\n",
       "params.decision_tree_regressor__min_samples_split                                                 None\n",
       "params.decision_tree_regressor__random_state                                                      None\n",
       "params.decision_tree_regressor__min_samples_leaf                                                  None\n",
       "params.decision_tree_regressor__criterion                                                         None\n",
       "params.lasso_regression__alpha                                                                    None\n",
       "params.linear_regression__fit_intercept                                                           None\n",
       "tags.mlflow.user                                                                                  root\n",
       "tags.mlflow.log-model.history                        [{\"run_id\": \"d3eac55f4ee341988b878370d21f735a\"...\n",
       "tags.mlflow.source.name                              /usr/local/lib/python3.10/site-packages/ipyker...\n",
       "tags.mlflow.runName                                                                adaboost-regression\n",
       "tags.mlflow.source.type                                                                          LOCAL\n",
       "Name: 2, dtype: object"
      ]
     },
     "execution_count": 40,
     "metadata": {},
     "output_type": "execute_result"
    }
   ],
   "source": [
    "best_run"
   ]
  },
  {
   "cell_type": "code",
   "execution_count": 41,
   "id": "6c4266ae-aa4b-4cfe-867e-6f8d5d87d319",
   "metadata": {},
   "outputs": [
    {
     "name": "stdout",
     "output_type": "stream",
     "text": [
      "s3://mlflow-artifacts/experiments/d3eac55f4ee341988b878370d21f735a/artifacts\n"
     ]
    }
   ],
   "source": [
    "# Load the model from the best run\n",
    "model_path = best_run.artifact_uri\n",
    "print(model_path)"
   ]
  },
  {
   "cell_type": "code",
   "execution_count": 57,
   "id": "9b875499-0fe2-4c1d-a13e-4908bcb9a598",
   "metadata": {},
   "outputs": [],
   "source": [
    "from mlflow.tracking.artifact_utils import _download_artifact_from_uri\n",
    "from mlflow.utils.model_utils import (\n",
    "    _add_code_from_conf_to_system_path,\n",
    "    _get_flavor_configuration,\n",
    ")\n",
    "\n",
    "import pickle\n",
    "\n",
    "if not os.path.isdir('model'):\n",
    "    os.mkdir('model')\n",
    "\n",
    "\n",
    "\n",
    "\"\"\"\n",
    "local_model_path = _download_artifact_from_uri(artifact_uri=model_uri, output_path=dst_path)\n",
    "    flavor_conf = _get_flavor_configuration(model_path=local_model_path, flavor_name=FLAVOR_NAME)\n",
    "    _add_code_from_conf_to_system_path(local_model_path, flavor_conf)\n",
    "    sklearn_model_artifacts_path = os.path.join(local_model_path, flavor_conf[\"pickled_model\"])\n",
    "    serialization_format = flavor_conf.get(\"serialization_format\", SERIALIZATION_FORMAT_PICKLE)\n",
    "    return _load_model_from_local_file(\n",
    "        path=sklearn_model_artifacts_path, serialization_format=serialization_format\n",
    "    )\n",
    "\"\"\"\n",
    "\n",
    "def load_sklearn_model(model_uri, dst_path):\n",
    "    local_model_path = _download_artifact_from_uri(artifact_uri=model_uri, output_path=dst_path)\n",
    "    # print(local_model_path)\n",
    "    # shutil.copytree(f'{local_model_path}/model', f'{local_model_path}/MLmodel')\n",
    "    local_model_path = os.path.join(local_model_path, 'MLmodel')\n",
    "    flavor_conf = _get_flavor_configuration(\n",
    "        model_path=local_model_path,\n",
    "        flavor_name=\"sklearn\"\n",
    "    )\n",
    "    _add_code_from_conf_to_system_path(local_model_path, flavor_conf)\n",
    "    sklearn_model_artifacts_path = os.path.join(local_model_path, flavor_conf[\"pickled_model\"])\n",
    "    serialization_format = flavor_conf.get(\"serialization_format\", \"pickle\")\n",
    "    with open(sklearn_model_artifacts_path, 'rb') as f:\n",
    "        loaded_model = pickle.load(f)\n",
    "    return loaded_model\n",
    "    \n",
    "# loaded_model = mlflow.sklearn.load_model(model_uri=model_path, dst_path='model')\n",
    "loaded_model = load_sklearn_model(model_uri=model_path, dst_path='model')"
   ]
  },
  {
   "cell_type": "code",
   "execution_count": 59,
   "id": "6995a376-969c-4835-903e-ebcd58e25fd9",
   "metadata": {},
   "outputs": [],
   "source": [
    "import re\n",
    "\n",
    "# Function to convert camelCase or PascalCase to snake_case\n",
    "def to_snake_case(name):\n",
    "    s1 = re.sub('(.)([A-Z][a-z]+)', r'\\1_\\2', name)\n",
    "    return re.sub('([a-z0-9])([A-Z])', r'\\1_\\2', s1).lower()"
   ]
  },
  {
   "cell_type": "code",
   "execution_count": 61,
   "id": "8879251b-3fd3-4abf-9aa7-ecb7ab3a5e13",
   "metadata": {},
   "outputs": [],
   "source": [
    "df_full = pd.read_csv(\"train.csv\")\n",
    "\n",
    "df_full.columns = [to_snake_case(col) for col in df_full.columns]\n",
    "df_full.drop(\n",
    "    columns=[\"id\", \"alley\", \"pool_qc\", \"fence\", \"misc_feature\", \"mas_vnr_type\", \"fireplace_qu\", \"lot_frontage\"],\n",
    "    inplace=True\n",
    "    )\n",
    "df_full.dropna(inplace=True)\n",
    "\n",
    "TARGET_COLUMN = \"sale_price\"\n",
    "del df_full[TARGET_COLUMN]\n",
    "\n",
    "df_full_dict = df_full.to_dict(orient='records')"
   ]
  },
  {
   "cell_type": "code",
   "execution_count": 62,
   "id": "bed8785a-398a-44f0-8730-4cd5cd9f38c7",
   "metadata": {},
   "outputs": [],
   "source": [
    "import random\n",
    "\n",
    "N = 10\n",
    "sample_x = random.sample(df_full_dict, k=N)"
   ]
  },
  {
   "cell_type": "code",
   "execution_count": 64,
   "id": "73e509c5-d485-4a5a-aa86-c1eb4d568a04",
   "metadata": {},
   "outputs": [],
   "source": [
    "y = loaded_model.predict(sample_x)"
   ]
  },
  {
   "cell_type": "code",
   "execution_count": 65,
   "id": "cfc08c09-03f0-4d68-b729-ba04dcd4ddab",
   "metadata": {},
   "outputs": [
    {
     "data": {
      "text/plain": [
       "array([10.94, 11.95, 11.99, 12.  , 12.  , 11.09, 11.03, 11.91, 11.09,\n",
       "       12.  ])"
      ]
     },
     "execution_count": 65,
     "metadata": {},
     "output_type": "execute_result"
    }
   ],
   "source": [
    "y"
   ]
  },
  {
   "cell_type": "code",
   "execution_count": 66,
   "id": "61116d82-aedb-427f-85c6-5dbe2faa30ff",
   "metadata": {},
   "outputs": [],
   "source": [
    "y_prices = np.exp(y) - 1"
   ]
  },
  {
   "cell_type": "code",
   "execution_count": 67,
   "id": "57d644ec-8448-42f9-b56c-65ef63a0a437",
   "metadata": {},
   "outputs": [
    {
     "data": {
      "text/plain": [
       "array([ 56386.34314617, 154816.14657623, 161134.35418627, 162753.791419  ,\n",
       "       162753.791419  ,  65511.74612369,  61696.580797  , 148745.67943014,\n",
       "        65511.74612369, 162753.791419  ])"
      ]
     },
     "execution_count": 67,
     "metadata": {},
     "output_type": "execute_result"
    }
   ],
   "source": [
    "y_prices"
   ]
  },
  {
   "cell_type": "code",
   "execution_count": null,
   "id": "b62ca247-4ed1-4719-9d15-34369d4951dc",
   "metadata": {},
   "outputs": [],
   "source": []
  }
 ],
 "metadata": {
  "kernelspec": {
   "display_name": "Python 3 (ipykernel)",
   "language": "python",
   "name": "python3"
  },
  "language_info": {
   "codemirror_mode": {
    "name": "ipython",
    "version": 3
   },
   "file_extension": ".py",
   "mimetype": "text/x-python",
   "name": "python",
   "nbconvert_exporter": "python",
   "pygments_lexer": "ipython3",
   "version": "3.10.16"
  }
 },
 "nbformat": 4,
 "nbformat_minor": 5
}
